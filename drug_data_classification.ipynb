{
  "nbformat": 4,
  "nbformat_minor": 0,
  "metadata": {
    "colab": {
      "provenance": [],
      "mount_file_id": "1bsLG6aMd6AT8DhzQcI7VC-OEEIioKt76",
      "authorship_tag": "ABX9TyN30uxO7baxdrjIkhkpPdIQ"
    },
    "kernelspec": {
      "name": "python3",
      "display_name": "Python 3"
    },
    "language_info": {
      "name": "python"
    }
  },
  "cells": [
    {
      "cell_type": "code",
      "execution_count": 1,
      "metadata": {
        "id": "8Eie9390cER2"
      },
      "outputs": [],
      "source": [
        "import pandas as pd\n",
        "from sklearn.model_selection import train_test_split\n",
        "from sklearn.preprocessing import LabelEncoder\n",
        "from sklearn.ensemble import RandomForestClassifier\n",
        "from sklearn.metrics import accuracy_score, classification_report"
      ]
    },
    {
      "cell_type": "code",
      "source": [
        "# Load the dataset\n",
        "data = pd.read_csv(\"/content/drive/MyDrive/DSA/data.csv\")"
      ],
      "metadata": {
        "id": "65L5SP3cd4Xd"
      },
      "execution_count": 2,
      "outputs": []
    },
    {
      "cell_type": "code",
      "source": [
        "data.head()"
      ],
      "metadata": {
        "colab": {
          "base_uri": "https://localhost:8080/",
          "height": 206
        },
        "id": "8i9ZkSD_hfNl",
        "outputId": "8c8ff925-e82f-4e62-b09a-4084319a25cb"
      },
      "execution_count": 3,
      "outputs": [
        {
          "output_type": "execute_result",
          "data": {
            "text/plain": [
              "  Patient_ID               Name   Age            Age_Group  Gender  \\\n",
              "0         P1  Chelsey Gutierrez  23.0          Young (<30)  Female   \n",
              "1         P2   Patricia Coleman  30.0  Middle-aged (30-60)    Male   \n",
              "2         P3     Caitlin Powell  31.0  Middle-aged (30-60)  Female   \n",
              "3         P4     Sandra Simmons  37.0  Middle-aged (30-60)    Male   \n",
              "4         P5      Anthony Banks  41.0  Middle-aged (30-60)    Male   \n",
              "\n",
              "               Race       Side_Effect  \n",
              "0  African American  Mild Side Effect  \n",
              "1         Caucasian    No Side Effect  \n",
              "2             Asian  Mild Side Effect  \n",
              "3          Hispanic  Mild Side Effect  \n",
              "4         Caucasian    No Side Effect  "
            ],
            "text/html": [
              "\n",
              "  <div id=\"df-923cc1ba-33b5-4275-819d-91aad9f86ce5\" class=\"colab-df-container\">\n",
              "    <div>\n",
              "<style scoped>\n",
              "    .dataframe tbody tr th:only-of-type {\n",
              "        vertical-align: middle;\n",
              "    }\n",
              "\n",
              "    .dataframe tbody tr th {\n",
              "        vertical-align: top;\n",
              "    }\n",
              "\n",
              "    .dataframe thead th {\n",
              "        text-align: right;\n",
              "    }\n",
              "</style>\n",
              "<table border=\"1\" class=\"dataframe\">\n",
              "  <thead>\n",
              "    <tr style=\"text-align: right;\">\n",
              "      <th></th>\n",
              "      <th>Patient_ID</th>\n",
              "      <th>Name</th>\n",
              "      <th>Age</th>\n",
              "      <th>Age_Group</th>\n",
              "      <th>Gender</th>\n",
              "      <th>Race</th>\n",
              "      <th>Side_Effect</th>\n",
              "    </tr>\n",
              "  </thead>\n",
              "  <tbody>\n",
              "    <tr>\n",
              "      <th>0</th>\n",
              "      <td>P1</td>\n",
              "      <td>Chelsey Gutierrez</td>\n",
              "      <td>23.0</td>\n",
              "      <td>Young (&lt;30)</td>\n",
              "      <td>Female</td>\n",
              "      <td>African American</td>\n",
              "      <td>Mild Side Effect</td>\n",
              "    </tr>\n",
              "    <tr>\n",
              "      <th>1</th>\n",
              "      <td>P2</td>\n",
              "      <td>Patricia Coleman</td>\n",
              "      <td>30.0</td>\n",
              "      <td>Middle-aged (30-60)</td>\n",
              "      <td>Male</td>\n",
              "      <td>Caucasian</td>\n",
              "      <td>No Side Effect</td>\n",
              "    </tr>\n",
              "    <tr>\n",
              "      <th>2</th>\n",
              "      <td>P3</td>\n",
              "      <td>Caitlin Powell</td>\n",
              "      <td>31.0</td>\n",
              "      <td>Middle-aged (30-60)</td>\n",
              "      <td>Female</td>\n",
              "      <td>Asian</td>\n",
              "      <td>Mild Side Effect</td>\n",
              "    </tr>\n",
              "    <tr>\n",
              "      <th>3</th>\n",
              "      <td>P4</td>\n",
              "      <td>Sandra Simmons</td>\n",
              "      <td>37.0</td>\n",
              "      <td>Middle-aged (30-60)</td>\n",
              "      <td>Male</td>\n",
              "      <td>Hispanic</td>\n",
              "      <td>Mild Side Effect</td>\n",
              "    </tr>\n",
              "    <tr>\n",
              "      <th>4</th>\n",
              "      <td>P5</td>\n",
              "      <td>Anthony Banks</td>\n",
              "      <td>41.0</td>\n",
              "      <td>Middle-aged (30-60)</td>\n",
              "      <td>Male</td>\n",
              "      <td>Caucasian</td>\n",
              "      <td>No Side Effect</td>\n",
              "    </tr>\n",
              "  </tbody>\n",
              "</table>\n",
              "</div>\n",
              "    <div class=\"colab-df-buttons\">\n",
              "\n",
              "  <div class=\"colab-df-container\">\n",
              "    <button class=\"colab-df-convert\" onclick=\"convertToInteractive('df-923cc1ba-33b5-4275-819d-91aad9f86ce5')\"\n",
              "            title=\"Convert this dataframe to an interactive table.\"\n",
              "            style=\"display:none;\">\n",
              "\n",
              "  <svg xmlns=\"http://www.w3.org/2000/svg\" height=\"24px\" viewBox=\"0 -960 960 960\">\n",
              "    <path d=\"M120-120v-720h720v720H120Zm60-500h600v-160H180v160Zm220 220h160v-160H400v160Zm0 220h160v-160H400v160ZM180-400h160v-160H180v160Zm440 0h160v-160H620v160ZM180-180h160v-160H180v160Zm440 0h160v-160H620v160Z\"/>\n",
              "  </svg>\n",
              "    </button>\n",
              "\n",
              "  <style>\n",
              "    .colab-df-container {\n",
              "      display:flex;\n",
              "      gap: 12px;\n",
              "    }\n",
              "\n",
              "    .colab-df-convert {\n",
              "      background-color: #E8F0FE;\n",
              "      border: none;\n",
              "      border-radius: 50%;\n",
              "      cursor: pointer;\n",
              "      display: none;\n",
              "      fill: #1967D2;\n",
              "      height: 32px;\n",
              "      padding: 0 0 0 0;\n",
              "      width: 32px;\n",
              "    }\n",
              "\n",
              "    .colab-df-convert:hover {\n",
              "      background-color: #E2EBFA;\n",
              "      box-shadow: 0px 1px 2px rgba(60, 64, 67, 0.3), 0px 1px 3px 1px rgba(60, 64, 67, 0.15);\n",
              "      fill: #174EA6;\n",
              "    }\n",
              "\n",
              "    .colab-df-buttons div {\n",
              "      margin-bottom: 4px;\n",
              "    }\n",
              "\n",
              "    [theme=dark] .colab-df-convert {\n",
              "      background-color: #3B4455;\n",
              "      fill: #D2E3FC;\n",
              "    }\n",
              "\n",
              "    [theme=dark] .colab-df-convert:hover {\n",
              "      background-color: #434B5C;\n",
              "      box-shadow: 0px 1px 3px 1px rgba(0, 0, 0, 0.15);\n",
              "      filter: drop-shadow(0px 1px 2px rgba(0, 0, 0, 0.3));\n",
              "      fill: #FFFFFF;\n",
              "    }\n",
              "  </style>\n",
              "\n",
              "    <script>\n",
              "      const buttonEl =\n",
              "        document.querySelector('#df-923cc1ba-33b5-4275-819d-91aad9f86ce5 button.colab-df-convert');\n",
              "      buttonEl.style.display =\n",
              "        google.colab.kernel.accessAllowed ? 'block' : 'none';\n",
              "\n",
              "      async function convertToInteractive(key) {\n",
              "        const element = document.querySelector('#df-923cc1ba-33b5-4275-819d-91aad9f86ce5');\n",
              "        const dataTable =\n",
              "          await google.colab.kernel.invokeFunction('convertToInteractive',\n",
              "                                                    [key], {});\n",
              "        if (!dataTable) return;\n",
              "\n",
              "        const docLinkHtml = 'Like what you see? Visit the ' +\n",
              "          '<a target=\"_blank\" href=https://colab.research.google.com/notebooks/data_table.ipynb>data table notebook</a>'\n",
              "          + ' to learn more about interactive tables.';\n",
              "        element.innerHTML = '';\n",
              "        dataTable['output_type'] = 'display_data';\n",
              "        await google.colab.output.renderOutput(dataTable, element);\n",
              "        const docLink = document.createElement('div');\n",
              "        docLink.innerHTML = docLinkHtml;\n",
              "        element.appendChild(docLink);\n",
              "      }\n",
              "    </script>\n",
              "  </div>\n",
              "\n",
              "\n",
              "<div id=\"df-4dc2a0d3-e78e-4969-acc0-a143d63197bc\">\n",
              "  <button class=\"colab-df-quickchart\" onclick=\"quickchart('df-4dc2a0d3-e78e-4969-acc0-a143d63197bc')\"\n",
              "            title=\"Suggest charts.\"\n",
              "            style=\"display:none;\">\n",
              "\n",
              "<svg xmlns=\"http://www.w3.org/2000/svg\" height=\"24px\"viewBox=\"0 0 24 24\"\n",
              "     width=\"24px\">\n",
              "    <g>\n",
              "        <path d=\"M19 3H5c-1.1 0-2 .9-2 2v14c0 1.1.9 2 2 2h14c1.1 0 2-.9 2-2V5c0-1.1-.9-2-2-2zM9 17H7v-7h2v7zm4 0h-2V7h2v10zm4 0h-2v-4h2v4z\"/>\n",
              "    </g>\n",
              "</svg>\n",
              "  </button>\n",
              "\n",
              "<style>\n",
              "  .colab-df-quickchart {\n",
              "      --bg-color: #E8F0FE;\n",
              "      --fill-color: #1967D2;\n",
              "      --hover-bg-color: #E2EBFA;\n",
              "      --hover-fill-color: #174EA6;\n",
              "      --disabled-fill-color: #AAA;\n",
              "      --disabled-bg-color: #DDD;\n",
              "  }\n",
              "\n",
              "  [theme=dark] .colab-df-quickchart {\n",
              "      --bg-color: #3B4455;\n",
              "      --fill-color: #D2E3FC;\n",
              "      --hover-bg-color: #434B5C;\n",
              "      --hover-fill-color: #FFFFFF;\n",
              "      --disabled-bg-color: #3B4455;\n",
              "      --disabled-fill-color: #666;\n",
              "  }\n",
              "\n",
              "  .colab-df-quickchart {\n",
              "    background-color: var(--bg-color);\n",
              "    border: none;\n",
              "    border-radius: 50%;\n",
              "    cursor: pointer;\n",
              "    display: none;\n",
              "    fill: var(--fill-color);\n",
              "    height: 32px;\n",
              "    padding: 0;\n",
              "    width: 32px;\n",
              "  }\n",
              "\n",
              "  .colab-df-quickchart:hover {\n",
              "    background-color: var(--hover-bg-color);\n",
              "    box-shadow: 0 1px 2px rgba(60, 64, 67, 0.3), 0 1px 3px 1px rgba(60, 64, 67, 0.15);\n",
              "    fill: var(--button-hover-fill-color);\n",
              "  }\n",
              "\n",
              "  .colab-df-quickchart-complete:disabled,\n",
              "  .colab-df-quickchart-complete:disabled:hover {\n",
              "    background-color: var(--disabled-bg-color);\n",
              "    fill: var(--disabled-fill-color);\n",
              "    box-shadow: none;\n",
              "  }\n",
              "\n",
              "  .colab-df-spinner {\n",
              "    border: 2px solid var(--fill-color);\n",
              "    border-color: transparent;\n",
              "    border-bottom-color: var(--fill-color);\n",
              "    animation:\n",
              "      spin 1s steps(1) infinite;\n",
              "  }\n",
              "\n",
              "  @keyframes spin {\n",
              "    0% {\n",
              "      border-color: transparent;\n",
              "      border-bottom-color: var(--fill-color);\n",
              "      border-left-color: var(--fill-color);\n",
              "    }\n",
              "    20% {\n",
              "      border-color: transparent;\n",
              "      border-left-color: var(--fill-color);\n",
              "      border-top-color: var(--fill-color);\n",
              "    }\n",
              "    30% {\n",
              "      border-color: transparent;\n",
              "      border-left-color: var(--fill-color);\n",
              "      border-top-color: var(--fill-color);\n",
              "      border-right-color: var(--fill-color);\n",
              "    }\n",
              "    40% {\n",
              "      border-color: transparent;\n",
              "      border-right-color: var(--fill-color);\n",
              "      border-top-color: var(--fill-color);\n",
              "    }\n",
              "    60% {\n",
              "      border-color: transparent;\n",
              "      border-right-color: var(--fill-color);\n",
              "    }\n",
              "    80% {\n",
              "      border-color: transparent;\n",
              "      border-right-color: var(--fill-color);\n",
              "      border-bottom-color: var(--fill-color);\n",
              "    }\n",
              "    90% {\n",
              "      border-color: transparent;\n",
              "      border-bottom-color: var(--fill-color);\n",
              "    }\n",
              "  }\n",
              "</style>\n",
              "\n",
              "  <script>\n",
              "    async function quickchart(key) {\n",
              "      const quickchartButtonEl =\n",
              "        document.querySelector('#' + key + ' button');\n",
              "      quickchartButtonEl.disabled = true;  // To prevent multiple clicks.\n",
              "      quickchartButtonEl.classList.add('colab-df-spinner');\n",
              "      try {\n",
              "        const charts = await google.colab.kernel.invokeFunction(\n",
              "            'suggestCharts', [key], {});\n",
              "      } catch (error) {\n",
              "        console.error('Error during call to suggestCharts:', error);\n",
              "      }\n",
              "      quickchartButtonEl.classList.remove('colab-df-spinner');\n",
              "      quickchartButtonEl.classList.add('colab-df-quickchart-complete');\n",
              "    }\n",
              "    (() => {\n",
              "      let quickchartButtonEl =\n",
              "        document.querySelector('#df-4dc2a0d3-e78e-4969-acc0-a143d63197bc button');\n",
              "      quickchartButtonEl.style.display =\n",
              "        google.colab.kernel.accessAllowed ? 'block' : 'none';\n",
              "    })();\n",
              "  </script>\n",
              "</div>\n",
              "    </div>\n",
              "  </div>\n"
            ]
          },
          "metadata": {},
          "execution_count": 3
        }
      ]
    },
    {
      "cell_type": "code",
      "source": [
        "data.info()"
      ],
      "metadata": {
        "colab": {
          "base_uri": "https://localhost:8080/"
        },
        "id": "SHr9dhxLedu1",
        "outputId": "b9d620c9-1fdd-4f57-ca58-64f9746d3e95"
      },
      "execution_count": 4,
      "outputs": [
        {
          "output_type": "stream",
          "name": "stdout",
          "text": [
            "<class 'pandas.core.frame.DataFrame'>\n",
            "RangeIndex: 400000 entries, 0 to 399999\n",
            "Data columns (total 7 columns):\n",
            " #   Column       Non-Null Count   Dtype  \n",
            "---  ------       --------------   -----  \n",
            " 0   Patient_ID   400000 non-null  object \n",
            " 1   Name         400000 non-null  object \n",
            " 2   Age          360071 non-null  float64\n",
            " 3   Age_Group    400000 non-null  object \n",
            " 4   Gender       400000 non-null  object \n",
            " 5   Race         400000 non-null  object \n",
            " 6   Side_Effect  400000 non-null  object \n",
            "dtypes: float64(1), object(6)\n",
            "memory usage: 21.4+ MB\n"
          ]
        }
      ]
    },
    {
      "cell_type": "code",
      "source": [
        "data.isna().sum()"
      ],
      "metadata": {
        "colab": {
          "base_uri": "https://localhost:8080/"
        },
        "id": "PTVG7bfFetww",
        "outputId": "bc341c6b-cba2-42f4-8b35-a6240a6c5faa"
      },
      "execution_count": 5,
      "outputs": [
        {
          "output_type": "execute_result",
          "data": {
            "text/plain": [
              "Patient_ID         0\n",
              "Name               0\n",
              "Age            39929\n",
              "Age_Group          0\n",
              "Gender             0\n",
              "Race               0\n",
              "Side_Effect        0\n",
              "dtype: int64"
            ]
          },
          "metadata": {},
          "execution_count": 5
        }
      ]
    },
    {
      "cell_type": "code",
      "source": [
        "# Handling missing values"
      ],
      "metadata": {
        "id": "nFnOLosYdF_n"
      },
      "execution_count": 6,
      "outputs": []
    },
    {
      "cell_type": "code",
      "source": [
        "data['Age'].fillna(data['Age'].mean(), inplace=True)"
      ],
      "metadata": {
        "id": "ub6HtcNXhACl"
      },
      "execution_count": 7,
      "outputs": []
    },
    {
      "cell_type": "code",
      "source": [
        "data['Age'].head()"
      ],
      "metadata": {
        "colab": {
          "base_uri": "https://localhost:8080/"
        },
        "id": "NuNHjs_WhVL1",
        "outputId": "cb69c26f-ef2b-428e-ae15-cb7b46845de0"
      },
      "execution_count": 8,
      "outputs": [
        {
          "output_type": "execute_result",
          "data": {
            "text/plain": [
              "0    23.0\n",
              "1    30.0\n",
              "2    31.0\n",
              "3    37.0\n",
              "4    41.0\n",
              "Name: Age, dtype: float64"
            ]
          },
          "metadata": {},
          "execution_count": 8
        }
      ]
    },
    {
      "cell_type": "code",
      "source": [
        "data.isna().sum()"
      ],
      "metadata": {
        "colab": {
          "base_uri": "https://localhost:8080/"
        },
        "id": "sJy_Nn9rhkgg",
        "outputId": "9c840f5e-3cb9-4e8d-f20c-302d82d8614d"
      },
      "execution_count": 9,
      "outputs": [
        {
          "output_type": "execute_result",
          "data": {
            "text/plain": [
              "Patient_ID     0\n",
              "Name           0\n",
              "Age            0\n",
              "Age_Group      0\n",
              "Gender         0\n",
              "Race           0\n",
              "Side_Effect    0\n",
              "dtype: int64"
            ]
          },
          "metadata": {},
          "execution_count": 9
        }
      ]
    },
    {
      "cell_type": "markdown",
      "source": [
        "**EDA**"
      ],
      "metadata": {
        "id": "IBb5Y2M8_pce"
      }
    },
    {
      "cell_type": "code",
      "source": [
        "import matplotlib.pyplot as plt\n",
        "import seaborn as sns"
      ],
      "metadata": {
        "id": "iX303YV7_5zF"
      },
      "execution_count": 10,
      "outputs": []
    },
    {
      "cell_type": "code",
      "source": [
        "plt.figure(figsize=(12, 6))\n",
        "plt.subplot(2, 2, 1)\n",
        "sns.histplot(data['Age'], bins=30, kde=True)\n",
        "plt.title('Age Distribution')\n",
        "\n",
        "\n",
        "\n",
        "\n"
      ],
      "metadata": {
        "colab": {
          "base_uri": "https://localhost:8080/",
          "height": 329
        },
        "id": "2Ql_LJLN_vCb",
        "outputId": "95dadbc1-e5fd-463e-a3e0-955c8331b654"
      },
      "execution_count": 14,
      "outputs": [
        {
          "output_type": "execute_result",
          "data": {
            "text/plain": [
              "Text(0.5, 1.0, 'Age Distribution')"
            ]
          },
          "metadata": {},
          "execution_count": 14
        },
        {
          "output_type": "display_data",
          "data": {
            "text/plain": [
              "<Figure size 1200x600 with 1 Axes>"
            ],
            "image/png": "[encoded data removed]"
          },
          "metadata": {}
        }
      ]
    },
    {
      "cell_type": "code",
      "source": [
        "from sklearn.preprocessing import LabelEncoder\n",
        "\n",
        "# Initialize the LabelEncoder\n",
        "label_encoder = LabelEncoder()\n",
        "\n",
        "# Fit and transform the \"Side_Effect\" column to numeric labels\n",
        "data[\"Side_Effect_Labels\"] = label_encoder.fit_transform(data[\"Side_Effect\"])\n",
        "\n",
        "# Now, the \"Side_Effect_Labels\" column contains numeric labels\n"
      ],
      "metadata": {
        "id": "FBBZsQa-ho4r"
      },
      "execution_count": 16,
      "outputs": []
    },
    {
      "cell_type": "code",
      "source": [
        "\n",
        "correlation_age = data[\"Age\"].corr(data[\"Side_Effect_Labels\"])\n",
        "correlation_age\n"
      ],
      "metadata": {
        "colab": {
          "base_uri": "https://localhost:8080/"
        },
        "id": "240WD2amj9l6",
        "outputId": "f0567000-e1a0-4a3d-98db-3feb965375d4"
      },
      "execution_count": 17,
      "outputs": [
        {
          "output_type": "execute_result",
          "data": {
            "text/plain": [
              "-0.00654264801190584"
            ]
          },
          "metadata": {},
          "execution_count": 17
        }
      ]
    },
    {
      "cell_type": "code",
      "source": [
        "# Encode categorical variables\n",
        "label_encoders = {}\n",
        "categorical_features = [\"Age_Group\", \"Gender\", \"Race\"]\n",
        "for feature in categorical_features:\n",
        "    label_encoders[feature] = LabelEncoder()\n",
        "    data[feature] = label_encoders[feature].fit_transform(data[feature])\n"
      ],
      "metadata": {
        "id": "XYKGdiEo9NA3"
      },
      "execution_count": 18,
      "outputs": []
    },
    {
      "cell_type": "code",
      "source": [
        "# Splitting the data into training and testibng sets"
      ],
      "metadata": {
        "id": "dsTLcZ6OdZU9"
      },
      "execution_count": 19,
      "outputs": []
    },
    {
      "cell_type": "code",
      "source": [
        "# Split the data into train and test sets\n",
        "X = data.drop(columns=[\"Patient_ID\", \"Name\", \"Side_Effect\"])\n",
        "y = data[\"Side_Effect\"]\n",
        "X_train, X_test, y_train, y_test = train_test_split(X, y, test_size=0.2, random_state=42)"
      ],
      "metadata": {
        "id": "S5oy-LIk9Rwz"
      },
      "execution_count": 20,
      "outputs": []
    },
    {
      "cell_type": "code",
      "source": [
        "# Build and train a random forest classifier\n",
        "clf = RandomForestClassifier(n_estimators=100, random_state=42)\n",
        "clf.fit(X_train, y_train)\n",
        "\n",
        "# Make predictions on the test set\n",
        "y_pred = clf.predict(X_test)\n",
        "\n",
        "# Evaluate the model\n",
        "accuracy = accuracy_score(y_test, y_pred)\n",
        "print(\"Accuracy:\", accuracy)\n",
        "print(classification_report(y_test, y_pred))\n"
      ],
      "metadata": {
        "colab": {
          "base_uri": "https://localhost:8080/"
        },
        "id": "GWaylR5E9vLZ",
        "outputId": "5c432bba-edbc-4849-de19-f11dfc08bc0d"
      },
      "execution_count": 21,
      "outputs": [
        {
          "output_type": "stream",
          "name": "stdout",
          "text": [
            "Accuracy: 1.0\n",
            "                     precision    recall  f1-score   support\n",
            "\n",
            "Extreme Side Effect       1.00      1.00      1.00     27403\n",
            "   Mild Side Effect       1.00      1.00      1.00     40070\n",
            "     No Side Effect       1.00      1.00      1.00     12527\n",
            "\n",
            "           accuracy                           1.00     80000\n",
            "          macro avg       1.00      1.00      1.00     80000\n",
            "       weighted avg       1.00      1.00      1.00     80000\n",
            "\n"
          ]
        }
      ]
    },
    {
      "cell_type": "code",
      "source": [
        "y_pred"
      ],
      "metadata": {
        "colab": {
          "base_uri": "https://localhost:8080/"
        },
        "id": "y1c7BotI5-OU",
        "outputId": "f0951ad2-5a02-493b-e93e-d934bff44df6"
      },
      "execution_count": 22,
      "outputs": [
        {
          "output_type": "execute_result",
          "data": {
            "text/plain": [
              "array(['Mild Side Effect', 'Mild Side Effect', 'No Side Effect', ...,\n",
              "       'No Side Effect', 'Extreme Side Effect', 'Extreme Side Effect'],\n",
              "      dtype=object)"
            ]
          },
          "metadata": {},
          "execution_count": 22
        }
      ]
    },
    {
      "cell_type": "code",
      "source": [
        "# SVM"
      ],
      "metadata": {
        "id": "NoRkk-BxIqTI"
      },
      "execution_count": 23,
      "outputs": []
    },
    {
      "cell_type": "code",
      "source": [
        "from sklearn.svm import SVC\n",
        "from sklearn.preprocessing import StandardScaler\n",
        "from sklearn.pipeline import Pipeline\n",
        "\n",
        "# Create an SVM classifier with a pipeline for scaling\n",
        "svm_classifier = Pipeline([\n",
        "    (\"scaler\", StandardScaler()),  # Standard scaling is applied here\n",
        "    (\"svm\", SVC(random_state=42))\n",
        "])\n",
        "\n",
        "# Train the model\n",
        "svm_classifier.fit(X_train, y_train)\n",
        "\n",
        "# Make predictions\n",
        "y_pred = svm_classifier.predict(X_test)\n",
        "\n",
        "# Evaluate the model\n",
        "accuracy = accuracy_score(y_test, y_pred)\n",
        "print(\"Accuracy with SVM:\", accuracy)\n",
        "print(classification_report(y_test, y_pred))"
      ],
      "metadata": {
        "colab": {
          "base_uri": "https://localhost:8080/"
        },
        "id": "2xLRU45EIwwA",
        "outputId": "91ac22c1-2d39-4f1c-b651-367ca2c54118"
      },
      "execution_count": 24,
      "outputs": [
        {
          "output_type": "stream",
          "name": "stdout",
          "text": [
            "Accuracy with SVM: 1.0\n",
            "                     precision    recall  f1-score   support\n",
            "\n",
            "Extreme Side Effect       1.00      1.00      1.00     27403\n",
            "   Mild Side Effect       1.00      1.00      1.00     40070\n",
            "     No Side Effect       1.00      1.00      1.00     12527\n",
            "\n",
            "           accuracy                           1.00     80000\n",
            "          macro avg       1.00      1.00      1.00     80000\n",
            "       weighted avg       1.00      1.00      1.00     80000\n",
            "\n"
          ]
        }
      ]
    },
    {
      "cell_type": "code",
      "source": [
        "from sklearn.metrics import confusion_matrix\n",
        "from sklearn.svm import SVC\n",
        "model = SVC(kernel='linear', C=1)\n",
        "from sklearn.model_selection import cross_val_predict"
      ],
      "metadata": {
        "id": "4Em3Lxo57W2B"
      },
      "execution_count": 25,
      "outputs": []
    },
    {
      "cell_type": "code",
      "source": [
        "predicted = cross_val_predict(model, X, y, cv=5)\n"
      ],
      "metadata": {
        "id": "Wh7Zt1BO7Z-K"
      },
      "execution_count": 26,
      "outputs": []
    },
    {
      "cell_type": "code",
      "source": [
        "conf_matrix = confusion_matrix(y, predicted)\n",
        "print(conf_matrix)\n"
      ],
      "metadata": {
        "colab": {
          "base_uri": "https://localhost:8080/"
        },
        "id": "onoDanc88Qge",
        "outputId": "60c8390a-f781-4dc3-bc89-545263f1dc71"
      },
      "execution_count": 27,
      "outputs": [
        {
          "output_type": "stream",
          "name": "stdout",
          "text": [
            "[[136544      0      0]\n",
            " [     0 199931      0]\n",
            " [     0      0  63525]]\n"
          ]
        }
      ]
    },
    {
      "cell_type": "code",
      "source": [
        "precision = conf_matrix[1, 1] / (conf_matrix[1, 1] + conf_matrix[0, 1])\n",
        "print(\"Precision:\", precision)\n"
      ],
      "metadata": {
        "colab": {
          "base_uri": "https://localhost:8080/"
        },
        "id": "GNvKcLTD8ZmI",
        "outputId": "ecc327f2-33d7-4c76-a460-0d63b363a067"
      },
      "execution_count": 28,
      "outputs": [
        {
          "output_type": "stream",
          "name": "stdout",
          "text": [
            "Precision: 1.0\n"
          ]
        }
      ]
    },
    {
      "cell_type": "markdown",
      "source": [
        "kNN"
      ],
      "metadata": {
        "id": "sl96rjpLJRBw"
      }
    },
    {
      "cell_type": "code",
      "source": [
        "from sklearn.neighbors import KNeighborsClassifier\n",
        "from sklearn.preprocessing import StandardScaler\n",
        "\n",
        "# Create a KNN classifier\n",
        "knn_classifier = Pipeline([\n",
        "    (\"scaler\", StandardScaler()),  # Standard scaling is applied here\n",
        "    (\"knn\", KNeighborsClassifier(n_neighbors=5))\n",
        "])\n",
        "\n",
        "# Train the model\n",
        "knn_classifier.fit(X_train, y_train)\n",
        "\n",
        "# Make predictions\n",
        "y_pred = knn_classifier.predict(X_test)\n",
        "\n",
        "# Evaluate the model\n",
        "accuracy = accuracy_score(y_test, y_pred)\n",
        "print(\"Accuracy with KNN:\", accuracy)\n",
        "print(classification_report(y_test, y_pred))"
      ],
      "metadata": {
        "colab": {
          "base_uri": "https://localhost:8080/"
        },
        "id": "6A-RG0qqJLVx",
        "outputId": "2b19ee35-3f69-430e-e7c8-088bf085efb8"
      },
      "execution_count": 29,
      "outputs": [
        {
          "output_type": "stream",
          "name": "stdout",
          "text": [
            "Accuracy with KNN: 1.0\n",
            "                     precision    recall  f1-score   support\n",
            "\n",
            "Extreme Side Effect       1.00      1.00      1.00     27403\n",
            "   Mild Side Effect       1.00      1.00      1.00     40070\n",
            "     No Side Effect       1.00      1.00      1.00     12527\n",
            "\n",
            "           accuracy                           1.00     80000\n",
            "          macro avg       1.00      1.00      1.00     80000\n",
            "       weighted avg       1.00      1.00      1.00     80000\n",
            "\n"
          ]
        }
      ]
    }
  ]
}